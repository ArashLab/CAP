{
 "cells": [
  {
   "cell_type": "markdown",
   "id": "d2f95423-e8b8-4c3a-a649-79940be6d2a8",
   "metadata": {
    "tags": []
   },
   "source": [
    "# Data"
   ]
  },
  {
   "cell_type": "code",
   "execution_count": null,
   "id": "3a899d7c-3ed3-466d-9c66-66e756cf7bc3",
   "metadata": {},
   "outputs": [],
   "source": [
    "InGt='hdfs:///users/me/data/input.vcf.bgz'\n",
    "VarInfo='s3:///VarInfo/info.tsv'"
   ]
  },
  {
   "cell_type": "markdown",
   "id": "cc4fa9bd-56a1-4cd3-873b-95fa2f12e1e4",
   "metadata": {},
   "source": [
    "# Analysis"
   ]
  },
  {
   "cell_type": "code",
   "execution_count": null,
   "id": "9aef982e-0286-446b-ab0b-99ee1d2380d4",
   "metadata": {},
   "outputs": [],
   "source": [
    "# Step 0: Initialisation\n",
    "import hail as hl\n",
    "hl.init()"
   ]
  },
  {
   "cell_type": "code",
   "execution_count": null,
   "id": "699dfe91-950c-43af-95ce-48c3d52cc0eb",
   "metadata": {},
   "outputs": [],
   "source": [
    "# Step 1: Load the input file\n",
    "mt = hl.import_vcf(InGt)"
   ]
  },
  {
   "cell_type": "code",
   "execution_count": null,
   "id": "719e6968-bfef-410a-84c6-c25717b751a0",
   "metadata": {},
   "outputs": [],
   "source": [
    "# Step 2: Apply MAF filter\n",
    "mt = mt.annotate_rows(maf = \n",
    "    hl.min(hl.agg.call_stats(mt.GT, mt.alleles).AF))\n",
    "mt = mt.filter_rows(mt.maf > 0.01)"
   ]
  },
  {
   "cell_type": "code",
   "execution_count": null,
   "id": "69f974df-fdf8-4157-a3bf-d39d4a68e27a",
   "metadata": {},
   "outputs": [],
   "source": [
    "# Step 3: Extract VariantInfo\n",
    "ht = mt.rows()"
   ]
  },
  {
   "cell_type": "code",
   "execution_count": null,
   "id": "33b2eca7-44fa-4f64-82b1-6a75013c1d50",
   "metadata": {},
   "outputs": [],
   "source": [
    "# Step 4: rename\n",
    "ht = ht.rename({'rsid':'dbSnpId'})"
   ]
  },
  {
   "cell_type": "code",
   "execution_count": null,
   "id": "571a5990-dbea-43e8-8ceb-dbc7c2b3b3dc",
   "metadata": {},
   "outputs": [],
   "source": [
    "# Step 5: Write to output file\n",
    "ht.export(VarInfo)"
   ]
  },
  {
   "cell_type": "code",
   "execution_count": null,
   "id": "25b591b1-57df-4730-b196-4d42c548233d",
   "metadata": {},
   "outputs": [],
   "source": []
  },
  {
   "cell_type": "code",
   "execution_count": null,
   "id": "b83375dc-bbc2-4ff3-ba25-1612cdd5790a",
   "metadata": {},
   "outputs": [],
   "source": []
  }
 ],
 "metadata": {
  "kernelspec": {
   "display_name": "Python 3 (ipykernel)",
   "language": "python",
   "name": "python3"
  },
  "language_info": {
   "codemirror_mode": {
    "name": "ipython",
    "version": 3
   },
   "file_extension": ".py",
   "mimetype": "text/x-python",
   "name": "python",
   "nbconvert_exporter": "python",
   "pygments_lexer": "ipython3",
   "version": "3.9.5"
  }
 },
 "nbformat": 4,
 "nbformat_minor": 5
}
